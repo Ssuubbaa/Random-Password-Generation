{
 "cells": [
  {
   "cell_type": "code",
   "execution_count": null,
   "id": "d334f50d",
   "metadata": {},
   "outputs": [],
   "source": [
    "#Importing libraries"
   ]
  },
  {
   "cell_type": "code",
   "execution_count": 10,
   "id": "2029fe9f",
   "metadata": {},
   "outputs": [],
   "source": [
    "import string,random\n",
    "from tkinter import *"
   ]
  },
  {
   "cell_type": "code",
   "execution_count": null,
   "id": "e2c306e6",
   "metadata": {},
   "outputs": [],
   "source": [
    "#Initializing project window"
   ]
  },
  {
   "cell_type": "code",
   "execution_count": 11,
   "id": "b3a4ef65",
   "metadata": {},
   "outputs": [
    {
     "data": {
      "text/plain": [
       "''"
      ]
     },
     "execution_count": 11,
     "metadata": {},
     "output_type": "execute_result"
    }
   ],
   "source": [
    "Screen= Tk()\n",
    "Screen.geometry(\"500x300\")\n",
    "Screen.title(\"password Generator\")"
   ]
  },
  {
   "cell_type": "code",
   "execution_count": null,
   "id": "02a18cd1",
   "metadata": {},
   "outputs": [],
   "source": [
    "#Title for the program"
   ]
  },
  {
   "cell_type": "code",
   "execution_count": 12,
   "id": "0fdfae7a",
   "metadata": {},
   "outputs": [],
   "source": [
    "Title = StringVar()\n",
    "TitleLabel = Label(Screen, textvariable=Title).pack()\n",
    "Title.set(\"Random Password generator in Python\")"
   ]
  },
  {
   "cell_type": "code",
   "execution_count": null,
   "id": "1c76db11",
   "metadata": {},
   "outputs": [],
   "source": [
    "#creating options"
   ]
  },
  {
   "cell_type": "code",
   "execution_count": 13,
   "id": "ba365325",
   "metadata": {},
   "outputs": [],
   "source": [
    "def SelectionOptions():\n",
    "    SelectionOptions = Choice.get()\n",
    " \n",
    "Choice= IntVar()\n",
    "RadioButton1 = Radiobutton(Screen,text=\"POOR\",variable=Choice,value=1,command=SelectionOptions).pack(anchor=CENTER)\n",
    "RadioButton2 = Radiobutton(Screen,text=\"AVERAGE\",variable=Choice,value=2,command=SelectionOptions).pack(anchor=CENTER)\n",
    "RadioButton3 = Radiobutton(Screen,text=\"STRONG\",variable=Choice,value=3,command=SelectionOptions).pack(anchor=CENTER)\n",
    " \n",
    "LabelChoice = Label(Screen)\n",
    "LabelChoice.pack()\n",
    " \n",
    "LengthLabel = StringVar()\n",
    "LengthLabel.set(\"Password Length\")\n",
    "LengthTitle = Label(Screen,textvariable=LengthLabel).pack()\n",
    "Value = IntVar()\n",
    "SpinLength = Spinbox(Screen, from_=9, to_=25 , textvariable = Value , width = 14).pack()"
   ]
  },
  {
   "cell_type": "code",
   "execution_count": null,
   "id": "b75567a1",
   "metadata": {},
   "outputs": [],
   "source": [
    "#Password logic"
   ]
  },
  {
   "cell_type": "code",
   "execution_count": 14,
   "id": "324e773e",
   "metadata": {},
   "outputs": [],
   "source": [
    "Poor = string.ascii_uppercase+string.ascii_lowercase\n",
    "Average = string.ascii_uppercase+string.ascii_lowercase+string.digits\n",
    "Symbols=\"\"\"~`! @#$%^&*()_-+={[}]|\\:;\"'<,>.?/ \"\"\"\n",
    "Advance= Poor+Average+Symbols\n",
    " \n",
    "def PassGen():\n",
    "    if Choice.get()==1:\n",
    "        return \"\".join(random.sample(Poor,Value.get()))\n",
    "    if Choice.get()==2:\n",
    "        return \"\".join(random.sample(Average,Value.get()))\n",
    "    if Choice.get()==3:\n",
    "        return \"\".join(random.sample(Advance,Value.get()))"
   ]
  },
  {
   "cell_type": "code",
   "execution_count": null,
   "id": "e7513959",
   "metadata": {},
   "outputs": [],
   "source": [
    "#creating button to generate password"
   ]
  },
  {
   "cell_type": "code",
   "execution_count": null,
   "id": "5ea72240",
   "metadata": {},
   "outputs": [],
   "source": [
    "Lsum=Label(Screen,text=\"\")\n",
    "Lsum.pack(side=BOTTOM)\n",
    "def CallBack():\n",
    "    Lsum.config(text=PassGen())\n",
    "Password=str(CallBack())\n",
    "PassGenButton = Button(Screen,text=\"generate Password\",bd=5, height=2 ,command=CallBack,pady=3)\n",
    "PassGenButton.pack()\n",
    " \n",
    "Screen.mainloop()"
   ]
  }
 ],
 "metadata": {
  "kernelspec": {
   "display_name": "Python 3 (ipykernel)",
   "language": "python",
   "name": "python3"
  },
  "language_info": {
   "codemirror_mode": {
    "name": "ipython",
    "version": 3
   },
   "file_extension": ".py",
   "mimetype": "text/x-python",
   "name": "python",
   "nbconvert_exporter": "python",
   "pygments_lexer": "ipython3",
   "version": "3.9.12"
  }
 },
 "nbformat": 4,
 "nbformat_minor": 5
}
